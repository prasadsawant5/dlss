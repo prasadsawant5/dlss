{
 "cells": [
  {
   "cell_type": "markdown",
   "metadata": {},
   "source": []
  },
  {
   "cell_type": "code",
   "execution_count": 1,
   "metadata": {},
   "outputs": [
    {
     "name": "stderr",
     "output_type": "stream",
     "text": [
      "2024-04-09 11:35:06.614941: I tensorflow/core/platform/cpu_feature_guard.cc:182] This TensorFlow binary is optimized to use available CPU instructions in performance-critical operations.\n",
      "To enable the following instructions: AVX2 FMA, in other operations, rebuild TensorFlow with the appropriate compiler flags.\n",
      "2024-04-09 11:35:07.209982: W tensorflow/compiler/tf2tensorrt/utils/py_utils.cc:38] TF-TRT Warning: Could not find TensorRT\n"
     ]
    }
   ],
   "source": [
    "import tensorflow as tf\n",
    "import os\n",
    "from tensorflow.keras.models import load_model\n",
    "from utils import inference_psnr"
   ]
  },
  {
   "cell_type": "code",
   "execution_count": 5,
   "metadata": {},
   "outputs": [
    {
     "name": "stderr",
     "output_type": "stream",
     "text": [
      "2024-04-09 08:40:43.550427: I tensorflow/compiler/xla/stream_executor/cuda/cuda_gpu_executor.cc:995] successful NUMA node read from SysFS had negative value (-1), but there must be at least one NUMA node, so returning NUMA node zero. See more at https://github.com/torvalds/linux/blob/v6.0/Documentation/ABI/testing/sysfs-bus-pci#L344-L355\n",
      "2024-04-09 08:40:43.645878: I tensorflow/compiler/xla/stream_executor/cuda/cuda_gpu_executor.cc:995] successful NUMA node read from SysFS had negative value (-1), but there must be at least one NUMA node, so returning NUMA node zero. See more at https://github.com/torvalds/linux/blob/v6.0/Documentation/ABI/testing/sysfs-bus-pci#L344-L355\n",
      "2024-04-09 08:40:43.646068: I tensorflow/compiler/xla/stream_executor/cuda/cuda_gpu_executor.cc:995] successful NUMA node read from SysFS had negative value (-1), but there must be at least one NUMA node, so returning NUMA node zero. See more at https://github.com/torvalds/linux/blob/v6.0/Documentation/ABI/testing/sysfs-bus-pci#L344-L355\n",
      "2024-04-09 08:40:43.647032: I tensorflow/compiler/xla/stream_executor/cuda/cuda_gpu_executor.cc:995] successful NUMA node read from SysFS had negative value (-1), but there must be at least one NUMA node, so returning NUMA node zero. See more at https://github.com/torvalds/linux/blob/v6.0/Documentation/ABI/testing/sysfs-bus-pci#L344-L355\n",
      "2024-04-09 08:40:43.647222: I tensorflow/compiler/xla/stream_executor/cuda/cuda_gpu_executor.cc:995] successful NUMA node read from SysFS had negative value (-1), but there must be at least one NUMA node, so returning NUMA node zero. See more at https://github.com/torvalds/linux/blob/v6.0/Documentation/ABI/testing/sysfs-bus-pci#L344-L355\n",
      "2024-04-09 08:40:43.647365: I tensorflow/compiler/xla/stream_executor/cuda/cuda_gpu_executor.cc:995] successful NUMA node read from SysFS had negative value (-1), but there must be at least one NUMA node, so returning NUMA node zero. See more at https://github.com/torvalds/linux/blob/v6.0/Documentation/ABI/testing/sysfs-bus-pci#L344-L355\n",
      "2024-04-09 08:40:44.442755: I tensorflow/compiler/xla/stream_executor/cuda/cuda_gpu_executor.cc:995] successful NUMA node read from SysFS had negative value (-1), but there must be at least one NUMA node, so returning NUMA node zero. See more at https://github.com/torvalds/linux/blob/v6.0/Documentation/ABI/testing/sysfs-bus-pci#L344-L355\n",
      "2024-04-09 08:40:44.442943: I tensorflow/compiler/xla/stream_executor/cuda/cuda_gpu_executor.cc:995] successful NUMA node read from SysFS had negative value (-1), but there must be at least one NUMA node, so returning NUMA node zero. See more at https://github.com/torvalds/linux/blob/v6.0/Documentation/ABI/testing/sysfs-bus-pci#L344-L355\n",
      "2024-04-09 08:40:44.443075: I tensorflow/compiler/xla/stream_executor/cuda/cuda_gpu_executor.cc:995] successful NUMA node read from SysFS had negative value (-1), but there must be at least one NUMA node, so returning NUMA node zero. See more at https://github.com/torvalds/linux/blob/v6.0/Documentation/ABI/testing/sysfs-bus-pci#L344-L355\n",
      "2024-04-09 08:40:44.443180: I tensorflow/core/common_runtime/gpu/gpu_device.cc:1639] Created device /job:localhost/replica:0/task:0/device:GPU:0 with 9146 MB memory:  -> device: 0, name: NVIDIA GeForce RTX 2080 Ti, pci bus id: 0000:01:00.0, compute capability: 7.5\n"
     ]
    },
    {
     "name": "stdout",
     "output_type": "stream",
     "text": [
      "Model: \"model\"\n",
      "__________________________________________________________________________________________________\n",
      " Layer (type)                Output Shape                 Param #   Connected to                  \n",
      "==================================================================================================\n",
      " inputs (InputLayer)         [(None, 360, 640, 3)]        0         []                            \n",
      "                                                                                                  \n",
      " tf.image.rgb_to_yuv (TFOpL  (None, 360, 640, 3)          0         ['inputs[0][0]']              \n",
      " ambda)                                                                                           \n",
      "                                                                                                  \n",
      " tf.split (TFOpLambda)       [(None, 360, 640, 1),        0         ['tf.image.rgb_to_yuv[0][0]'] \n",
      "                              (None, 360, 640, 1),                                                \n",
      "                              (None, 360, 640, 1)]                                                \n",
      "                                                                                                  \n",
      " conv0 (Conv2D)              (None, 360, 640, 64)         1664      ['tf.split[0][0]']            \n",
      "                                                                                                  \n",
      " conv1 (Conv2D)              (None, 360, 640, 64)         36928     ['conv0[0][0]']               \n",
      "                                                                                                  \n",
      " conv2d (Conv2D)             (None, 360, 640, 64)         36928     ['conv1[0][0]']               \n",
      "                                                                                                  \n",
      " concatenate (Concatenate)   (None, 360, 640, 128)        0         ['conv1[0][0]',               \n",
      "                                                                     'conv2d[0][0]']              \n",
      "                                                                                                  \n",
      " conv2d_1 (Conv2D)           (None, 360, 640, 128)        147584    ['concatenate[0][0]']         \n",
      "                                                                                                  \n",
      " concatenate_1 (Concatenate  (None, 360, 640, 256)        0         ['conv1[0][0]',               \n",
      " )                                                                   'conv2d[0][0]',              \n",
      "                                                                     'conv2d_1[0][0]']            \n",
      "                                                                                                  \n",
      " conv2d_2 (Conv2D)           (None, 360, 640, 256)        590080    ['concatenate_1[0][0]']       \n",
      "                                                                                                  \n",
      " concatenate_2 (Concatenate  (None, 360, 640, 512)        0         ['conv1[0][0]',               \n",
      " )                                                                   'conv2d[0][0]',              \n",
      "                                                                     'conv2d_1[0][0]',            \n",
      "                                                                     'conv2d_2[0][0]']            \n",
      "                                                                                                  \n",
      " conv2d_3 (Conv2D)           (None, 360, 640, 64)         294976    ['concatenate_2[0][0]']       \n",
      "                                                                                                  \n",
      " add (Add)                   (None, 360, 640, 64)         0         ['conv1[0][0]',               \n",
      "                                                                     'conv2d_3[0][0]']            \n",
      "                                                                                                  \n",
      " conv2d_4 (Conv2D)           (None, 360, 640, 64)         36928     ['add[0][0]']                 \n",
      "                                                                                                  \n",
      " conv2d_5 (Conv2D)           (None, 360, 640, 64)         36928     ['conv2d_4[0][0]']            \n",
      "                                                                                                  \n",
      " concatenate_3 (Concatenate  (None, 360, 640, 128)        0         ['conv2d_4[0][0]',            \n",
      " )                                                                   'conv2d_5[0][0]']            \n",
      "                                                                                                  \n",
      " conv2d_6 (Conv2D)           (None, 360, 640, 128)        147584    ['concatenate_3[0][0]']       \n",
      "                                                                                                  \n",
      " concatenate_4 (Concatenate  (None, 360, 640, 256)        0         ['conv2d_4[0][0]',            \n",
      " )                                                                   'conv2d_5[0][0]',            \n",
      "                                                                     'conv2d_6[0][0]']            \n",
      "                                                                                                  \n",
      " conv2d_7 (Conv2D)           (None, 360, 640, 256)        590080    ['concatenate_4[0][0]']       \n",
      "                                                                                                  \n",
      " concatenate_5 (Concatenate  (None, 360, 640, 512)        0         ['conv2d_4[0][0]',            \n",
      " )                                                                   'conv2d_5[0][0]',            \n",
      "                                                                     'conv2d_6[0][0]',            \n",
      "                                                                     'conv2d_7[0][0]']            \n",
      "                                                                                                  \n",
      " conv2d_8 (Conv2D)           (None, 360, 640, 64)         294976    ['concatenate_5[0][0]']       \n",
      "                                                                                                  \n",
      " add_1 (Add)                 (None, 360, 640, 64)         0         ['conv2d_4[0][0]',            \n",
      "                                                                     'conv2d_8[0][0]']            \n",
      "                                                                                                  \n",
      " conv2d_9 (Conv2D)           (None, 360, 640, 4)          2308      ['add_1[0][0]']               \n",
      "                                                                                                  \n",
      " tf.nn.depth_to_space (TFOp  (None, 720, 1280, 1)         0         ['conv2d_9[0][0]']            \n",
      " Lambda)                                                                                          \n",
      "                                                                                                  \n",
      " tf.image.resize (TFOpLambd  (None, 720, 1280, 1)         0         ['tf.split[0][1]']            \n",
      " a)                                                                                               \n",
      "                                                                                                  \n",
      " tf.image.resize_1 (TFOpLam  (None, 720, 1280, 1)         0         ['tf.split[0][2]']            \n",
      " bda)                                                                                             \n",
      "                                                                                                  \n",
      " tf.concat (TFOpLambda)      (None, 720, 1280, 3)         0         ['tf.nn.depth_to_space[0][0]',\n",
      "                                                                     'tf.image.resize[0][0]',     \n",
      "                                                                     'tf.image.resize_1[0][0]']   \n",
      "                                                                                                  \n",
      "==================================================================================================\n",
      "Total params: 2216964 (8.46 MB)\n",
      "Trainable params: 2216964 (8.46 MB)\n",
      "Non-trainable params: 0 (0.00 Byte)\n",
      "__________________________________________________________________________________________________\n"
     ]
    }
   ],
   "source": [
    "SAVED_MODEL = './saved_models/2'\n",
    "model = load_model(SAVED_MODEL, custom_objects={\"psnr\": inference_psnr})\n",
    "\n",
    "model.summary()"
   ]
  },
  {
   "cell_type": "code",
   "execution_count": 9,
   "metadata": {},
   "outputs": [
    {
     "ename": "TypeError",
     "evalue": "from_keras_model() got an unexpected keyword argument 'enable_mlir_converter'",
     "output_type": "error",
     "traceback": [
      "\u001b[0;31m---------------------------------------------------------------------------\u001b[0m",
      "\u001b[0;31mTypeError\u001b[0m                                 Traceback (most recent call last)",
      "Cell \u001b[0;32mIn[9], line 1\u001b[0m\n\u001b[0;32m----> 1\u001b[0m converter \u001b[38;5;241m=\u001b[39m \u001b[43mtf\u001b[49m\u001b[38;5;241;43m.\u001b[39;49m\u001b[43mlite\u001b[49m\u001b[38;5;241;43m.\u001b[39;49m\u001b[43mTFLiteConverter\u001b[49m\u001b[38;5;241;43m.\u001b[39;49m\u001b[43mfrom_keras_model\u001b[49m\u001b[43m(\u001b[49m\u001b[43mmodel\u001b[49m\u001b[43m,\u001b[49m\u001b[43m \u001b[49m\u001b[43menable_mlir_converter\u001b[49m\u001b[38;5;241;43m=\u001b[39;49m\u001b[38;5;28;43;01mTrue\u001b[39;49;00m\u001b[43m)\u001b[49m\n\u001b[1;32m      2\u001b[0m tflite_model \u001b[38;5;241m=\u001b[39m converter\u001b[38;5;241m.\u001b[39mconvert()\n\u001b[1;32m      4\u001b[0m _path \u001b[38;5;241m=\u001b[39m os\u001b[38;5;241m.\u001b[39mpath\u001b[38;5;241m.\u001b[39mjoin(SAVED_MODEL, \u001b[38;5;124m'\u001b[39m\u001b[38;5;124mlite\u001b[39m\u001b[38;5;124m'\u001b[39m)\n",
      "\u001b[0;31mTypeError\u001b[0m: from_keras_model() got an unexpected keyword argument 'enable_mlir_converter'"
     ]
    }
   ],
   "source": [
    "converter = tf.lite.TFLiteConverter.from_keras_model(model, enable_mlir_converter=True)\n",
    "tflite_model = converter.convert()\n",
    "\n",
    "_path = os.path.join(SAVED_MODEL, 'lite')\n",
    "if not os.path.exists(_path):\n",
    "    os.mkdir(_path)\n",
    "\n",
    "# Save the model.\n",
    "with open(os.path.join(_path, 'model.tflite'), 'wb') as f:\n",
    "    f.write(tflite_model)"
   ]
  },
  {
   "cell_type": "code",
   "execution_count": null,
   "metadata": {},
   "outputs": [],
   "source": []
  }
 ],
 "metadata": {
  "kernelspec": {
   "display_name": "Python 3",
   "language": "python",
   "name": "python3"
  },
  "language_info": {
   "codemirror_mode": {
    "name": "ipython",
    "version": 3
   },
   "file_extension": ".py",
   "mimetype": "text/x-python",
   "name": "python",
   "nbconvert_exporter": "python",
   "pygments_lexer": "ipython3",
   "version": "3.8.10"
  }
 },
 "nbformat": 4,
 "nbformat_minor": 2
}
